{
  "cells": [
    {
      "cell_type": "markdown",
      "source": [
        "### Character-Level Language Model\n",
        "\n",
        "This notebook contains a generative model working at the level of characters.\n"
      ],
      "metadata": {
        "id": "sZ6I5Yr8QUtD"
      }
    },
    {
      "cell_type": "code",
      "execution_count": 1,
      "metadata": {
        "id": "RqPkh2KTGUGp"
      },
      "outputs": [],
      "source": [
        "import numpy as np\n",
        "from numpy.random import randint,rand,seed,normal,permutation,choice\n",
        "\n",
        "import string\n",
        "import math\n",
        "\n",
        "import matplotlib.pyplot as plt\n",
        "from copy import deepcopy\n",
        "from tqdm import tqdm\n",
        "\n",
        "import torch\n",
        "from torch import nn, optim\n",
        "import torch.nn.functional as F\n",
        "from torch.utils.data import random_split,Dataset,DataLoader\n",
        "\n",
        "\n",
        "\n",
        "# from torchsummary import summary                   # must install using pip install torchsummary"
      ]
    },
    {
      "cell_type": "code",
      "execution_count": 2,
      "metadata": {
        "colab": {
          "base_uri": "https://localhost:8080/"
        },
        "id": "RcDYxJGhGUGr",
        "outputId": "241eefbe-57f7-4580-87d2-bd0f5baa6be3"
      },
      "outputs": [
        {
          "output_type": "stream",
          "name": "stdout",
          "text": [
            "Mounted at /content/drive\n"
          ]
        }
      ],
      "source": [
        "from google.colab import drive\n",
        "drive.mount('/content/drive')\n",
        "\n",
        "data_dir = 'drive/MyDrive/CS505 Datasets/'"
      ]
    },
    {
      "cell_type": "markdown",
      "source": [
        "Load a text file. We chose a poem, to see how it did with line breaks.  "
      ],
      "metadata": {
        "id": "FbYPF_0RQw1j"
      }
    },
    {
      "cell_type": "code",
      "execution_count": 3,
      "metadata": {
        "colab": {
          "base_uri": "https://localhost:8080/",
          "height": 35
        },
        "id": "2_zGTaCKGUGs",
        "outputId": "fa8b0524-426e-4d57-f084-356d11995151"
      },
      "outputs": [
        {
          "output_type": "execute_result",
          "data": {
            "text/plain": [
              "'/* File: BSTExperiment.java\\n * Authors: Brian Borucki and Wayne Snyder\\n * Date: 9/10/13\\n * Purpose: '"
            ],
            "application/vnd.google.colaboratory.intrinsic+json": {
              "type": "string"
            }
          },
          "metadata": {},
          "execution_count": 3
        }
      ],
      "source": [
        "\n",
        "with open(data_dir+\"datasetFile.txt\", \"r\") as text_file:\n",
        "    text = text_file.read()\n",
        "\n",
        "text[:100]"
      ]
    },
    {
      "cell_type": "markdown",
      "source": [
        "No normalization will be performed, however,\n",
        "we will run out of RAM if we attempt to\n",
        "use the entire poem as data. We have chosen\n",
        "here to use 10K characters, out of a total\n",
        "of"
      ],
      "metadata": {
        "id": "jvdwU6PeQugU"
      }
    },
    {
      "cell_type": "code",
      "execution_count": 4,
      "metadata": {
        "id": "lVfP44ZUGUGs",
        "colab": {
          "base_uri": "https://localhost:8080/"
        },
        "outputId": "349ffd33-d178-4876-b0b3-e14e78ebfbab"
      },
      "outputs": [
        {
          "output_type": "stream",
          "name": "stdout",
          "text": [
            "Text is 10877 characters long.\n"
          ]
        }
      ],
      "source": [
        "print(f\"Text is {len(text)} characters long.\")\n",
        "\n",
        "size = 10000\n",
        "\n",
        "text = text[:size]"
      ]
    },
    {
      "cell_type": "markdown",
      "source": [
        "Next we figure out how many distinct characters there are in the text; this\n",
        "will be what is generated at each step of the generation."
      ],
      "metadata": {
        "id": "rwgjqUe5R0eX"
      }
    },
    {
      "cell_type": "code",
      "execution_count": 5,
      "metadata": {
        "colab": {
          "base_uri": "https://localhost:8080/"
        },
        "id": "aYeHZcdzGUGt",
        "outputId": "79fcf3d4-71f7-40ee-cf82-7d1528948efa"
      },
      "outputs": [
        {
          "output_type": "stream",
          "name": "stdout",
          "text": [
            "There are 73 characters in the text.\n",
            "Character set: ['\\n', ' ', '!', '\"', '&', '(', ')', '*', '+', ',', '-', '.', '/', '0', '1', '2', '3', '4', '6', '9', ':', ';', '<', '=', '>', 'A', 'B', 'C', 'D', 'E', 'F', 'H', 'I', 'L', 'M', 'N', 'O', 'P', 'R', 'S', 'T', 'V', 'W', '[', ']', 'a', 'b', 'c', 'd', 'e', 'f', 'g', 'h', 'i', 'j', 'k', 'l', 'm', 'n', 'o', 'p', 'q', 'r', 's', 't', 'u', 'v', 'w', 'x', 'y', 'z', '{', '}'].\n"
          ]
        }
      ],
      "source": [
        "chars_in_text = sorted(list(set(text)))\n",
        "\n",
        "num_chars = len(chars_in_text)\n",
        "\n",
        "print(f'There are {num_chars} characters in the text.')\n",
        "\n",
        "\n",
        "print(f'Character set: {chars_in_text}.')\n"
      ]
    },
    {
      "cell_type": "code",
      "source": [
        "# Create functions mapping characters to integers and back\n",
        "\n",
        "def char2int(c):\n",
        "    return chars_in_text.index(c)\n",
        "\n",
        "def int2char(i):\n",
        "    return chars_in_text[i]"
      ],
      "metadata": {
        "id": "gwALsQhiStNT"
      },
      "execution_count": 6,
      "outputs": []
    },
    {
      "cell_type": "markdown",
      "metadata": {
        "id": "68JWvJxdGUGt"
      },
      "source": [
        "As we're going to predict the next character in the sequence at each time step, we'll have to divide each sentence into\n",
        "\n",
        "- Input data\n",
        "    - The last input character should be excluded as it does not need to be fed into the model\n",
        "- Target/Ground Truth Label\n",
        "    - One time-step ahead of the Input data as this will be the \"correct answer\" for the model at each time step corresponding to the input data\n",
        "\n",
        "The sample length is a critical parameter which tells us how much of the source data to ingest at each training step.  You might want to play around with this as one of the hyperparameters."
      ]
    },
    {
      "cell_type": "code",
      "execution_count": 7,
      "metadata": {
        "colab": {
          "base_uri": "https://localhost:8080/"
        },
        "id": "lYyi7B_IGUGu",
        "outputId": "425e0fd8-d35f-4b53-fdd5-4a6967001785"
      },
      "outputs": [
        {
          "output_type": "stream",
          "name": "stdout",
          "text": [
            "Input sequence:\n",
            "/* File: BSTExperiment.java\n",
            " * Authors: Brian Borucki and Wayne Snyder\n",
            " * Date: 9/10/13\n",
            " * Purpose:\n",
            "Target sequence:\n",
            "* File: BSTExperiment.java\n",
            " * Authors: Brian Borucki and Wayne Snyder\n",
            " * Date: 9/10/13\n",
            " * Purpose: \n",
            "\n",
            "Input sequence:\n",
            "* File: BSTExperiment.java\n",
            " * Authors: Brian Borucki and Wayne Snyder\n",
            " * Date: 9/10/13\n",
            " * Purpose: \n",
            "Target sequence:\n",
            " File: BSTExperiment.java\n",
            " * Authors: Brian Borucki and Wayne Snyder\n",
            " * Date: 9/10/13\n",
            " * Purpose: T\n",
            "\n",
            "Input sequence:\n",
            " File: BSTExperiment.java\n",
            " * Authors: Brian Borucki and Wayne Snyder\n",
            " * Date: 9/10/13\n",
            " * Purpose: T\n",
            "Target sequence:\n",
            "File: BSTExperiment.java\n",
            " * Authors: Brian Borucki and Wayne Snyder\n",
            " * Date: 9/10/13\n",
            " * Purpose: Th\n",
            "\n",
            "Input sequence:\n",
            "File: BSTExperiment.java\n",
            " * Authors: Brian Borucki and Wayne Snyder\n",
            " * Date: 9/10/13\n",
            " * Purpose: Th\n",
            "Target sequence:\n",
            "ile: BSTExperiment.java\n",
            " * Authors: Brian Borucki and Wayne Snyder\n",
            " * Date: 9/10/13\n",
            " * Purpose: Thi\n",
            "\n",
            "Input sequence:\n",
            "ile: BSTExperiment.java\n",
            " * Authors: Brian Borucki and Wayne Snyder\n",
            " * Date: 9/10/13\n",
            " * Purpose: Thi\n",
            "Target sequence:\n",
            "le: BSTExperiment.java\n",
            " * Authors: Brian Borucki and Wayne Snyder\n",
            " * Date: 9/10/13\n",
            " * Purpose: This\n",
            "\n"
          ]
        }
      ],
      "source": [
        "sample_len = 100\n",
        "\n",
        "# Creating lists that will hold our input and target sample sequences\n",
        "\n",
        "input_seq_chars = []\n",
        "target_seq_chars = []\n",
        "\n",
        "for k in range(len(text)-sample_len+1):\n",
        "\n",
        "    # Remove last character for input sequence\n",
        "    input_seq_chars.append(text[k:k+sample_len-1])\n",
        "\n",
        "    # Remove firsts character for target sequence\n",
        "    target_seq_chars.append(text[k+1:k+sample_len])\n",
        "\n",
        "for i in range(5):\n",
        "    print(f'Input sequence:\\n{input_seq_chars[i]}')\n",
        "    print(f'Target sequence:\\n{target_seq_chars[i]}')\n",
        "    print()\n"
      ]
    },
    {
      "cell_type": "markdown",
      "metadata": {
        "id": "DYT6SCJ9GUGu"
      },
      "source": [
        "Now we can convert our input and target sequences to sequences of integers instead of characters by mapping them using the functions we created above. This will allow us to one-hot-encode our input sequence later."
      ]
    },
    {
      "cell_type": "code",
      "execution_count": 8,
      "metadata": {
        "id": "WJXQF5NAGUGu",
        "colab": {
          "base_uri": "https://localhost:8080/"
        },
        "outputId": "a388e58e-c079-41e8-ab6b-9541edd28949"
      },
      "outputs": [
        {
          "output_type": "stream",
          "name": "stdout",
          "text": [
            "[12, 7, 1, 30, 53, 56, 49, 20, 1, 26, 39, 40, 29, 68, 60, 49, 62, 53, 57, 49, 58, 64, 11, 54, 45, 66, 45, 0, 1, 7, 1, 25, 65, 64, 52, 59, 62, 63, 20, 1, 26, 62, 53, 45, 58, 1, 26, 59, 62, 65, 47, 55, 53, 1, 45, 58, 48, 1, 42, 45, 69, 58, 49, 1, 39, 58, 69, 48, 49, 62, 0, 1, 7, 1, 28, 45, 64, 49, 20, 1, 19, 12, 14, 13, 12, 14, 16, 0, 1, 7, 1, 37, 65, 62, 60, 59, 63, 49, 20]\n"
          ]
        }
      ],
      "source": [
        "input_seq = []\n",
        "target_seq = []\n",
        "\n",
        "for i in range(len(input_seq_chars)):\n",
        "    input_seq.append( [char2int(ch) for ch in input_seq_chars[i]])\n",
        "    target_seq.append([char2int(ch) for ch in target_seq_chars[i]])\n",
        "\n",
        "print(input_seq[0])"
      ]
    },
    {
      "cell_type": "code",
      "execution_count": 9,
      "metadata": {
        "colab": {
          "base_uri": "https://localhost:8080/"
        },
        "id": "3Q5xPFM0GUGu",
        "outputId": "807ab608-30b8-4077-cb2b-4789122990de"
      },
      "outputs": [
        {
          "output_type": "execute_result",
          "data": {
            "text/plain": [
              "array([[0., 0., 1., 0., 0., 0., 0., 0., 0., 0.],\n",
              "       [0., 0., 0., 1., 0., 0., 0., 0., 0., 0.],\n",
              "       [0., 1., 0., 0., 0., 0., 0., 0., 0., 0.],\n",
              "       [0., 0., 1., 0., 0., 0., 0., 0., 0., 0.],\n",
              "       [0., 0., 0., 1., 0., 0., 0., 0., 0., 0.],\n",
              "       [0., 0., 0., 0., 1., 0., 0., 0., 0., 0.]])"
            ]
          },
          "metadata": {},
          "execution_count": 9
        }
      ],
      "source": [
        "# convert an integer into a one-hot encoding of the given size (= number of characters)\n",
        "def int2OneHot(X,size):\n",
        "\n",
        "    def int2OneHot1(x,size=10):\n",
        "        tmp = np.zeros(size)\n",
        "        tmp[int(x)] = 1.0\n",
        "        return tmp\n",
        "\n",
        "    return np.array([ int2OneHot1(x, size) for x in X ]).astype('double')\n",
        "\n",
        "int2OneHot( np.array([ 2,3,1,2,3,4 ]),10)"
      ]
    },
    {
      "cell_type": "code",
      "execution_count": 10,
      "metadata": {
        "colab": {
          "base_uri": "https://localhost:8080/"
        },
        "id": "0v3RGM8AGUGv",
        "outputId": "0b62c8b9-b0d3-462d-ff5a-49b25b5a4e4d"
      },
      "outputs": [
        {
          "output_type": "execute_result",
          "data": {
            "text/plain": [
              "array([[[0., 0., 1., 0., 0., 0., 0., 0., 0., 0.],\n",
              "        [0., 0., 0., 1., 0., 0., 0., 0., 0., 0.],\n",
              "        [0., 1., 0., 0., 0., 0., 0., 0., 0., 0.],\n",
              "        [0., 0., 1., 0., 0., 0., 0., 0., 0., 0.],\n",
              "        [0., 0., 0., 1., 0., 0., 0., 0., 0., 0.],\n",
              "        [0., 0., 0., 0., 1., 0., 0., 0., 0., 0.]],\n",
              "\n",
              "       [[0., 0., 1., 0., 0., 0., 0., 0., 0., 0.],\n",
              "        [0., 0., 0., 1., 0., 0., 0., 0., 0., 0.],\n",
              "        [0., 1., 0., 0., 0., 0., 0., 0., 0., 0.],\n",
              "        [0., 0., 1., 0., 0., 0., 0., 0., 0., 0.],\n",
              "        [0., 0., 0., 1., 0., 0., 0., 0., 0., 0.],\n",
              "        [0., 0., 0., 0., 1., 0., 0., 0., 0., 0.]],\n",
              "\n",
              "       [[0., 0., 1., 0., 0., 0., 0., 0., 0., 0.],\n",
              "        [0., 0., 0., 1., 0., 0., 0., 0., 0., 0.],\n",
              "        [0., 1., 0., 0., 0., 0., 0., 0., 0., 0.],\n",
              "        [0., 0., 1., 0., 0., 0., 0., 0., 0., 0.],\n",
              "        [0., 0., 0., 1., 0., 0., 0., 0., 0., 0.],\n",
              "        [0., 0., 0., 0., 1., 0., 0., 0., 0., 0.]]])"
            ]
          },
          "metadata": {},
          "execution_count": 10
        }
      ],
      "source": [
        "# do the same thing, but for a list/array of integers\n",
        "\n",
        "def seq2OneHot(seq,size):\n",
        "    return np.array([ int2OneHot(x, size) for x in seq ])\n",
        "\n",
        "seq2OneHot( np.array([[ 2,3,1,2,3,4 ],[ 2,3,1,2,3,4 ],[ 2,3,1,2,3,4 ]]),10)"
      ]
    },
    {
      "cell_type": "code",
      "execution_count": 11,
      "metadata": {
        "colab": {
          "base_uri": "https://localhost:8080/"
        },
        "id": "nbTrt7AjGUGv",
        "outputId": "53db79de-e993-4438-a199-8695c11454f1"
      },
      "outputs": [
        {
          "output_type": "execute_result",
          "data": {
            "text/plain": [
              "(9901, 99, 73)"
            ]
          },
          "metadata": {},
          "execution_count": 11
        }
      ],
      "source": [
        "# Convert our input sequences to one-hot form\n",
        "\n",
        "input_seq = seq2OneHot(input_seq,size=num_chars)\n",
        "input_seq.shape"
      ]
    },
    {
      "cell_type": "code",
      "execution_count": 12,
      "metadata": {
        "colab": {
          "base_uri": "https://localhost:8080/"
        },
        "id": "B1KM2AaXGUGv",
        "outputId": "f01c8e5b-e70f-4a0c-8b9b-877026f5d2bc"
      },
      "outputs": [
        {
          "output_type": "execute_result",
          "data": {
            "text/plain": [
              "(9901, 99, 73)"
            ]
          },
          "metadata": {},
          "execution_count": 12
        }
      ],
      "source": [
        "# Convert our target sequences to one-hot form\n",
        "\n",
        "target_seq = seq2OneHot(target_seq,size=num_chars)\n",
        "target_seq.shape"
      ]
    },
    {
      "cell_type": "markdown",
      "metadata": {
        "id": "YEYJ0NE0GUGv"
      },
      "source": [
        "Since we're done with all the data pre-processing, we can now move the data from numpy arrays to tensors."
      ]
    },
    {
      "cell_type": "code",
      "execution_count": 13,
      "metadata": {
        "id": "CcrO5N7RGUGv"
      },
      "outputs": [],
      "source": [
        "input_seq = torch.Tensor(input_seq).type(torch.DoubleTensor)\n",
        "target_seq = torch.Tensor(target_seq).type(torch.DoubleTensor)"
      ]
    },
    {
      "cell_type": "markdown",
      "metadata": {
        "id": "D5NEt539GUGv"
      },
      "source": [
        "Now we will build a data loader to manage the batching."
      ]
    },
    {
      "cell_type": "code",
      "source": [
        "class Basic_Dataset(Dataset):\n",
        "\n",
        "    def __init__(self, X,Y):\n",
        "        self.X = X\n",
        "        self.Y = Y\n",
        "\n",
        "    def __len__(self):\n",
        "        return len(self.X)\n",
        "\n",
        "    # return a pair x,y at the index idx in the data set\n",
        "    def __getitem__(self, idx):\n",
        "        return self.X[idx], self.Y[idx]\n",
        "\n",
        "ds = Basic_Dataset(input_seq,target_seq)\n",
        "\n",
        "ds.__len__()"
      ],
      "metadata": {
        "colab": {
          "base_uri": "https://localhost:8080/"
        },
        "id": "hhkkAfJVVViF",
        "outputId": "bceff616-4cb0-4393-ddbe-b4bba064b70f"
      },
      "execution_count": 14,
      "outputs": [
        {
          "output_type": "execute_result",
          "data": {
            "text/plain": [
              "9901"
            ]
          },
          "metadata": {},
          "execution_count": 14
        }
      ]
    },
    {
      "cell_type": "markdown",
      "source": [
        "Batch size is a hyperparameter that will mostly determine how efficiently you can process the data on a GPU."
      ],
      "metadata": {
        "id": "8FPjzvUbVrAd"
      }
    },
    {
      "cell_type": "code",
      "execution_count": 33,
      "metadata": {
        "id": "v4vgBd0jGUGv"
      },
      "outputs": [],
      "source": [
        "batch_size = 128\n",
        "#batch_size = 256\n",
        "#batch_size = 1024\n",
        "#batch_size = 32\n",
        "#batch_size = 64\n",
        "\n",
        "data_loader = DataLoader(ds, batch_size=batch_size, shuffle=True)\n"
      ]
    },
    {
      "cell_type": "markdown",
      "metadata": {
        "id": "_wgOsxHYGUGv"
      },
      "source": [
        "Check if a GPU is available and use it if it is."
      ]
    },
    {
      "cell_type": "code",
      "execution_count": 34,
      "metadata": {
        "colab": {
          "base_uri": "https://localhost:8080/"
        },
        "id": "BFwBQZ1uGUGv",
        "outputId": "dcb012bb-b56a-409a-fece-64b0c155aedc"
      },
      "outputs": [
        {
          "output_type": "stream",
          "name": "stdout",
          "text": [
            "GPU is available\n"
          ]
        }
      ],
      "source": [
        "# torch.cuda.is_available() checks and returns a Boolean True if a GPU is available, else it'll return False\n",
        "is_cuda = torch.cuda.is_available()\n",
        "\n",
        "# If we have a GPU available, we'll set our device to GPU. We'll use this device variable later in our code.\n",
        "if is_cuda:\n",
        "    device = torch.device(\"cuda\")\n",
        "    print(\"GPU is available\")\n",
        "else:\n",
        "    device = torch.device(\"cpu\")\n",
        "    print(\"GPU not available, CPU used\")"
      ]
    },
    {
      "cell_type": "markdown",
      "metadata": {
        "id": "R6u-fhYkGUGv"
      },
      "source": [
        "The model will use an LSTM layer and a single linear layer to produce a softmax\n",
        "of the next character. Various hyperparameters can be chosen to modify this\n",
        "model.  A messy detail is that two vectors, h0 and c0, have to be created for the hidden state in the LSTM layer (these correspond to the two connections\n",
        "shown in lecture for an LSTM neuron to send to itself in the next time step).  "
      ]
    },
    {
      "cell_type": "code",
      "execution_count": 35,
      "metadata": {
        "id": "dzDdSvGAGUGw"
      },
      "outputs": [],
      "source": [
        "from os import device_encoding\n",
        "class Model(nn.Module):\n",
        "    def __init__(self, input_size, output_size, hidden_dim, n_layers,dropout):\n",
        "        super(Model, self).__init__()\n",
        "\n",
        "        # Defining some parameters\n",
        "        self.hidden_dim = hidden_dim\n",
        "        self.n_layers = n_layers\n",
        "\n",
        "        #Defining the layers\n",
        "        self.lstm = nn.LSTM(input_size, hidden_dim, n_layers,dropout=dropout,batch_first=True)\n",
        "        # Fully connected layer\n",
        "        self.fc1 = nn.Linear(hidden_dim, output_size)\n",
        "\n",
        "    def forward(self, x):\n",
        "\n",
        "        hidden_state_size = x.size(0)\n",
        "\n",
        "        x = x.to(torch.double)\n",
        "\n",
        "        h0 = torch.zeros(self.n_layers,hidden_state_size,self.hidden_dim).double().to(device)\n",
        "        c0 = torch.zeros(self.n_layers,hidden_state_size,self.hidden_dim).double().to(device)\n",
        "\n",
        "        self.lstm = self.lstm.double()\n",
        "\n",
        "        self.fc1 = self.fc1.double()\n",
        "\n",
        "        # Passing in the input and hidden state into the model and obtaining outputs\n",
        "        out, (hx,cx) = self.lstm(x, (h0,c0))\n",
        "\n",
        "        # Reshaping the outputs such that it can be fit into the fully connected layer\n",
        "        out = out.contiguous().view(-1, self.hidden_dim)\n",
        "        out = self.fc1(out)\n",
        "\n",
        "        return out\n",
        "\n"
      ]
    },
    {
      "cell_type": "markdown",
      "source": [
        "Next, we instantiate the model with its hyperparameters, all of which can be\n",
        "changed."
      ],
      "metadata": {
        "id": "xr571AKQXDQH"
      }
    },
    {
      "cell_type": "code",
      "execution_count": 48,
      "metadata": {
        "id": "zNUwEsRDGUGw",
        "colab": {
          "base_uri": "https://localhost:8080/"
        },
        "outputId": "028460ef-210f-443f-ab77-dfba43cef7b9"
      },
      "outputs": [
        {
          "output_type": "stream",
          "name": "stdout",
          "text": [
            "Model(\n",
            "  (lstm): LSTM(73, 128, batch_first=True)\n",
            "  (fc1): Linear(in_features=128, out_features=73, bias=True)\n",
            ")\n"
          ]
        }
      ],
      "source": [
        "# Instantiate the model with hyperparameters\n",
        "\n",
        "#model = Model(input_size=num_chars, output_size=num_chars, hidden_dim=256, n_layers=1,dropout=0.0)\n",
        "#model = Model(input_size=num_chars, output_size=num_chars, hidden_dim=64, n_layers=1,dropout=0.0)\n",
        "model = Model(input_size=num_chars, output_size=num_chars, hidden_dim=128, n_layers=1,dropout=0.0)\n",
        "\n",
        "print(model)\n",
        "\n",
        "model = model.double().to(device)\n",
        "\n",
        "# Define Loss, Optimizer\n",
        "loss_fn = nn.CrossEntropyLoss()\n",
        "\n",
        "optimizer = torch.optim.Adam(model.parameters(), lr=0.001,weight_decay=0.0)\n",
        "\n"
      ]
    },
    {
      "cell_type": "markdown",
      "source": [
        "The following is a minimal training loop. We just track the loss, since accuracy\n",
        "is not the point of a generative model.\n",
        "\n",
        "However, overfitting is very much a problem. You will see that overfitting has occurred when you give as prompt a prefix of the text (say the first line) and in generation it just spits out the text (which it has memorized)."
      ],
      "metadata": {
        "id": "rDrJKscMXaU0"
      }
    },
    {
      "cell_type": "code",
      "execution_count": 49,
      "metadata": {
        "scrolled": false,
        "colab": {
          "base_uri": "https://localhost:8080/",
          "height": 487
        },
        "id": "HVClRHtXGUGw",
        "outputId": "90f9d8c7-e631-47af-8a0b-c5faab1284e9"
      },
      "outputs": [
        {
          "output_type": "stream",
          "name": "stderr",
          "text": [
            "100%|██████████| 10/10 [01:06<00:00,  6.66s/it]\n"
          ]
        },
        {
          "output_type": "execute_result",
          "data": {
            "text/plain": [
              "[<matplotlib.lines.Line2D at 0x7e2cff335030>]"
            ]
          },
          "metadata": {},
          "execution_count": 49
        },
        {
          "output_type": "display_data",
          "data": {
            "text/plain": [
              "<Figure size 640x480 with 1 Axes>"
            ],
            "image/png": "[encoded data removed]"
          },
          "metadata": {}
        }
      ],
      "source": [
        "num_epochs = 10\n",
        "\n",
        "losses = []\n",
        "\n",
        "model.train()\n",
        "\n",
        "for epoch in tqdm(range(num_epochs)):\n",
        "\n",
        "    for input_seq_batch,target_seq_batch in data_loader:\n",
        "        input_seq_batch = input_seq_batch.to(device)\n",
        "        target_seq_batch = target_seq_batch.to(device)\n",
        "        optimizer.zero_grad()\n",
        "        target_seq_hat = model(input_seq_batch)\n",
        "        loss = loss_fn(target_seq_hat,target_seq_batch.view(-1,num_chars))\n",
        "        loss.backward()\n",
        "        optimizer.step()\n",
        "\n",
        "    losses.append(loss.item())\n",
        "\n",
        "\n",
        "plt.title('Loss')\n",
        "plt.plot(losses)"
      ]
    },
    {
      "cell_type": "markdown",
      "source": [
        "The temperature of a softmax function will determine  the relative strength of different probabilities:\n",
        "- As temperature approaches 0, distribution approaches a one-hot with 1 for the max\n",
        "- As temperature increases, it approaches a uniform distribution\n",
        "\n",
        "Generally we want to emphasize the higher probabilities, so we choose\n",
        "a reasonably low temperature."
      ],
      "metadata": {
        "id": "uuyAwhLPXtGd"
      }
    },
    {
      "cell_type": "code",
      "source": [
        "\n",
        "def softmax_with_temperature(vec, temperature):\n",
        "    sum_exp = sum(math.exp(x/temperature) for x in vec)\n",
        "    return [math.exp(x/temperature)/sum_exp for x in vec]\n",
        "\n",
        "print(\"Example of softmax with temperature.\")\n",
        "dist = [0.1, 0.3, 0.6]\n",
        "print('distribution:',dist)\n",
        "print(softmax_with_temperature(dist,0.01))\n",
        "print(softmax_with_temperature(dist,0.1))\n",
        "print(softmax_with_temperature(dist,0.2))\n",
        "print(softmax_with_temperature(dist,0.3))\n",
        "print(softmax_with_temperature(dist,1))\n",
        "print(softmax_with_temperature(dist,10))"
      ],
      "metadata": {
        "colab": {
          "base_uri": "https://localhost:8080/"
        },
        "id": "Sg7j3CzGQDkf",
        "outputId": "9afd5c0b-1756-4039-e2e1-133e95926b2f"
      },
      "execution_count": 50,
      "outputs": [
        {
          "output_type": "stream",
          "name": "stdout",
          "text": [
            "Example of softmax with temperature.\n",
            "distribution: [0.1, 0.3, 0.6]\n",
            "[1.9287498479637375e-22, 9.3576229688393e-14, 0.9999999999999064]\n",
            "[0.006377460922442302, 0.04712341652466416, 0.9464991225528936]\n",
            "[0.06289001324586753, 0.1709527801977903, 0.7661572065563421]\n",
            "[0.12132647558421489, 0.23631170657656433, 0.6423618178392208]\n",
            "[0.2583896517379799, 0.3155978333128144, 0.4260125149492058]\n",
            "[0.3255767455856355, 0.3321538321280155, 0.3422694222863489]\n"
          ]
        }
      ]
    },
    {
      "cell_type": "markdown",
      "source": [
        "Choose a temperature and predict the next character, given a prompt of arbitrary length."
      ],
      "metadata": {
        "id": "hLlygE7WYigs"
      }
    },
    {
      "cell_type": "code",
      "execution_count": 51,
      "metadata": {
        "scrolled": false,
        "colab": {
          "base_uri": "https://localhost:8080/",
          "height": 35
        },
        "id": "kLJX_vFSGUGw",
        "outputId": "d8d2b6f8-ee10-4749-cfdc-886b52dc9950"
      },
      "outputs": [
        {
          "output_type": "execute_result",
          "data": {
            "text/plain": [
              "'l'"
            ],
            "application/vnd.google.colaboratory.intrinsic+json": {
              "type": "string"
            }
          },
          "metadata": {},
          "execution_count": 51
        }
      ],
      "source": [
        "temperature = 0.3\n",
        "\n",
        "def predict(model, ch):\n",
        "\n",
        "    # only look at last sample_len - 1 characters\n",
        "\n",
        "    ch = ch[-(sample_len - 1):]\n",
        "\n",
        "    # One-hot encoding our input to fit into the model\n",
        "    ch = np.array([char2int(c) for c in ch])\n",
        "    ch = np.array([int2OneHot(ch, num_chars)])\n",
        "    ch = torch.from_numpy(ch).to(device)\n",
        "\n",
        "    out = model(ch)\n",
        "\n",
        "    # take the probability distribution of the last character in the sequence produced by the model\n",
        "    prob = softmax_with_temperature(out[-1],temperature)\n",
        "\n",
        "    # Choosing a character based on the probability distribution, with temperature\n",
        "    char_ind = choice(list(range(num_chars)), p=prob)\n",
        "\n",
        "    return int2char(char_ind)\n",
        "\n",
        "predict(model,\"import java.u\")"
      ]
    },
    {
      "cell_type": "markdown",
      "source": [
        "Now take a prompt and iterate the previous prediction a specified number of times.\n",
        "\n",
        "Prompt is generally taken to be a long sequence randomly selected from the text. You can also try a sequence of words similar to those in the text, but not an exact sequence. It does not have to be the exact length of the data sequences. However, very short prompts tend not to work as well."
      ],
      "metadata": {
        "id": "wThVXlXhYgqt"
      }
    },
    {
      "cell_type": "code",
      "execution_count": 52,
      "metadata": {
        "id": "eFcGfQ8VGUGw"
      },
      "outputs": [],
      "source": [
        "def sample(model, out_len, start):\n",
        "    model.eval() # eval mode\n",
        "    # First off, run through the starting characters\n",
        "    chars = [ch for ch in start]\n",
        "    size = out_len - len(chars)\n",
        "    # Now pass in the previous characters and get a new one\n",
        "    for ii in range(size):\n",
        "        char = predict(model, chars)\n",
        "        chars.append(char)\n",
        "\n",
        "    return ''.join(chars)"
      ]
    },
    {
      "cell_type": "markdown",
      "source": [
        "Now we will run our model, but with the parameters we have chosen, and\n",
        "10 epochs, you can see that it is getting some idea of words and lines, but\n",
        "it doesn't look like an English poem!\n",
        "\n",
        "Run this for another 100 epochs, and observe that at that point,\n",
        "the network will have simply memorized the poem!"
      ],
      "metadata": {
        "id": "LONowWPkg6bj"
      }
    },
    {
      "cell_type": "code",
      "execution_count": 53,
      "metadata": {
        "scrolled": false,
        "colab": {
          "base_uri": "https://localhost:8080/"
        },
        "id": "ra7VOpilGUGw",
        "outputId": "d41d64c1-c826-4f30-d82b-ed424beb0a88"
      },
      "outputs": [
        {
          "output_type": "stream",
          "name": "stdout",
          "text": [
            "import java.ublled t nodentede(int key) {\n",
            "      if(t == null)\n",
            "         return null;\n",
            "      else f     e             //   ore t = nulle                                                                                                                                                                                                                                                                                                                                                                                                                                                                                                                                                                                                                                                                                                                                                                                                                                                                                                   \n"
          ]
        }
      ],
      "source": [
        "print(sample(model, 1000, \"import java.u\"))"
      ]
    }
  ],
  "metadata": {
    "kernelspec": {
      "display_name": "Python 3",
      "name": "python3"
    },
    "language_info": {
      "codemirror_mode": {
        "name": "ipython",
        "version": 3
      },
      "file_extension": ".py",
      "mimetype": "text/x-python",
      "name": "python",
      "nbconvert_exporter": "python",
      "pygments_lexer": "ipython3",
      "version": "3.10.9"
    },
    "colab": {
      "provenance": [],
      "gpuType": "T4"
    },
    "accelerator": "GPU"
  },
  "nbformat": 4,
  "nbformat_minor": 0
}